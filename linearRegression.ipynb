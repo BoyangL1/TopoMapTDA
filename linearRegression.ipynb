{
 "cells": [
  {
   "cell_type": "code",
   "execution_count": 1,
   "metadata": {},
   "outputs": [],
   "source": [
    "import geopandas as gpd\n",
    "import pandas as pd\n",
    "import numpy as np\n",
    "from shapely.geometry import Point\n",
    "from scipy.optimize import least_squares"
   ]
  },
  {
   "cell_type": "code",
   "execution_count": 2,
   "metadata": {},
   "outputs": [],
   "source": [
    "def bresenhamLine(x0, y0, x1, y1):\n",
    "    dx = abs(x1 - x0)\n",
    "    dy = abs(y1 - y0)\n",
    "    sx = -1 if x0 > x1 else 1\n",
    "    sy = -1 if y0 > y1 else 1\n",
    "    err = dx - dy\n",
    "\n",
    "    points = []\n",
    "\n",
    "    while True:\n",
    "        points.append((x0, y0))\n",
    "\n",
    "        if x0 == x1 and y0 == y1:\n",
    "            break\n",
    "\n",
    "        e2 = 2 * err\n",
    "        if e2 > -dy:\n",
    "            err -= dy\n",
    "            x0 += sx\n",
    "        if e2 < dx:\n",
    "            err += dx\n",
    "            y0 += sy\n",
    "\n",
    "    return points\n",
    "\n",
    "def calculateCoordinates(fnid_value):\n",
    "    \"\"\"\n",
    "    提供fnid,计算格网的横纵坐标\n",
    "    \"\"\"\n",
    "    x = fnid_value % 357\n",
    "    y = fnid_value // 357\n",
    "    return x, y\n",
    "\n",
    "def fnid_from_coordinates(x, y):\n",
    "    \"\"\"\n",
    "    根据格网的横纵坐标,计算fnid\n",
    "    \"\"\"\n",
    "    return y * 357 + x\n",
    "\n",
    "def odLineFnids(fnid_o, fnid_d):\n",
    "    \"\"\"\n",
    "    计算起始点到终止点直线经过的fnid格网编号\n",
    "    \"\"\"\n",
    "    x0, y0 = calculateCoordinates(fnid_o)\n",
    "    x1, y1 = calculateCoordinates(fnid_d)\n",
    "\n",
    "    line_points = bresenhamLine(x0, y0, x1, y1)\n",
    "\n",
    "    fnids = [fnid_from_coordinates(x, y) for x, y in line_points]\n",
    "    return fnids"
   ]
  },
  {
   "cell_type": "code",
   "execution_count": 3,
   "metadata": {},
   "outputs": [],
   "source": [
    "grid=gpd.read_file('../data/shp/nanshan_value/nanshan_value.shp')\n",
    "od_cluster_df = pd.read_csv('../data/od_cluster.csv')\n",
    "\n",
    "od_cluster_df = od_cluster_df.drop_duplicates(subset=['origin_lat', 'origin_lng', 'destination_lat', 'destination_lng'])"
   ]
  },
  {
   "cell_type": "code",
   "execution_count": 4,
   "metadata": {},
   "outputs": [],
   "source": [
    "gdf = gpd.read_file('../data/shp/nanshan_value/nanshan_value.shp')\n",
    "gdf['id'] = range(1, len(gdf) + 1)\n",
    "max_id = max(gdf['id'])\n",
    "min_value = gdf['states'].min()\n",
    "max_value = gdf['states'].max()\n",
    "gdf['states'] = ((gdf['states'] - min_value) / (max_value - min_value)) * (2 - 0) + 0 # 归一化为0-2"
   ]
  },
  {
   "cell_type": "code",
   "execution_count": 5,
   "metadata": {},
   "outputs": [
    {
     "name": "stderr",
     "output_type": "stream",
     "text": [
      "e:\\Anaconda\\envs\\django\\lib\\site-packages\\pandas\\core\\dtypes\\cast.py:118: ShapelyDeprecationWarning: The array interface is deprecated and will no longer work in Shapely 2.0. Convert the '.coords' to a numpy array instead.\n",
      "  arr = construct_1d_object_array_from_listlike(values)\n"
     ]
    }
   ],
   "source": [
    "od_cluster_df['source_geometry'] = [Point(xy) for xy in zip(od_cluster_df.origin_lng, od_cluster_df.origin_lat)]\n",
    "od_cluster_df['target_geometry'] = [Point(xy) for xy in zip(od_cluster_df.destination_lng, od_cluster_df.destination_lat)]\n",
    "\n",
    "coefficients = {}\n",
    "for index,row in od_cluster_df.iterrows():\n",
    "    source_point = row['source_geometry']  \n",
    "    target_point = row['target_geometry']\n",
    "    fnid_o = gdf[gdf.contains(source_point)]['fnid'].values[0] if gdf.contains(source_point).any() else None\n",
    "    fnid_d = gdf[gdf.contains(target_point)]['fnid'].values[0] if gdf.contains(target_point).any() else None\n",
    "    if not fnid_o or not fnid_d:\n",
    "        continue\n",
    "\n",
    "    fnid_list=odLineFnids(fnid_o, fnid_d)\n",
    "    matched_gdf = gdf[gdf['fnid'].isin(fnid_list)]\n",
    "\n",
    "    # N = len(matched_gdf)*1\n",
    "    N = sum(matched_gdf['states'])\n",
    "    omega = (row['count']) \n",
    "    C = np.log(omega)\n",
    "\n",
    "    id_list = matched_gdf['id'].to_list()\n",
    "\n",
    "    for id in matched_gdf['id']:\n",
    "        if id not in coefficients:\n",
    "            coefficients[id] = {'N': 0, 'C_sum': 0, 'count': 0, 'id_lists': []}\n",
    "        coefficients[id]['N'] += N\n",
    "        coefficients[id]['C_sum'] += C\n",
    "        coefficients[id]['count'] += 1\n",
    "        coefficients[id]['id_lists'].append(id_list)"
   ]
  },
  {
   "cell_type": "code",
   "execution_count": 16,
   "metadata": {},
   "outputs": [
    {
     "name": "stdout",
     "output_type": "stream",
     "text": [
      "优化后的结果： {372: -2.2565538681714767, 673: -0.3557521949325988, 676: -0.8096003416184206, 962: 2.074690925399836, 1282: 2.9196173021609515, 307: 1.1047110673406606, 768: -1.1220724985664443, 300: 1.2368792854922939, 396: 1.1621323776451682, 505: 1.8116060419417535, 615: 0.6050499863534902, 671: -1.3189419182842603, 865: 0.10785688043650528, 1333: 2.0302738085137597, 1335: 2.53225564264974, 366: 0.6811590959054051, 398: -1.0149825742010352, 432: 0.11706534507356448, 434: 1.5659579978240163, 1149: 1.469399481675985, 1214: 2.0420548700600327, 224: 0.48601682017555453, 448: -0.4039225365590439, 540: 2.407057232236664, 597: -0.09840031623911015, 628: 4.2508123842651155, 655: -2.1756650975173812, 686: -0.5784685615467782, 24: -3.3068126123527164, 240: 8.012364079173544, 347: -4.632879733024079, 379: -2.1964503172647847, 567: 1.5717520244177912, 140: -0.6920130813866936, 743: 5.203455210136288, 811: -4.953041293890808, 972: 0.8148681853605251, 1163: 2.6345019227062814, 207: -6.30642561376498, 236: 0.5492076727383498, 277: -2.695388951976878, 449: 2.952579657520056, 599: 1.6930038458631111, 874: -3.559507728127442, 911: 2.512796404119142, 1128: 3.33600167412374, 348: -0.6997764526731969, 456: -2.275170953676595, 784: 2.01034731889147, 879: 8.092478740949373, 1228: 3.4075297832107916, 1351: -3.9729002101700313, 134: -3.832100925853485, 234: -1.1372946372726078, 443: 0.17912885403886716, 521: 0.8843555177711824, 682: 1.6062253806642353, 773: 3.163344612582584, 942: 4.883703939972822, 1345: 0.569918240012739, 1419: -3.673195962066696, 78: 3.6772198095095803, 410: 1.18847539769052, 481: 2.7817549239509236, 875: 2.428417516244504, 1004: -1.3710321019386815, 1031: 3.4163807018424666, 1100: 3.155856491912621, 1310: -3.9307598983706864, 136: 2.771612009483513, 649: -4.616561954923796, 782: 0.9185899986458347, 945: -0.9676867156956162, 1352: 2.248672112023925, 1420: 3.982066790988403, 964: -3.226824024792558, 176: 2.41396536085582, 652: 0.6424450527596642, 197: 4.002368930871055, 1254: -2.4419504141603823, 1377: -1.085717710441937, 263: 2.219724536464603, 302: -0.3932113997839569, 532: 2.1241217050879255, 621: -1.4168411659538889, 312: 4.1008329300547715, 375: -1.0850083870318303, 447: 0.04643535810375958, 778: -0.03171142168943765, 1005: -1.6019873313624904, 1062: 0.18654660717325203, 1227: 4.040575070351587, 102: -2.3203625479891636, 271: -1.2125585408641848, 279: -0.7269306732263849, 406: 2.233924486080991, 1256: -3.005303392326108, 48: -0.10203578207226349, 349: 0.523985480505217, 350: 0.504854526404067, 1226: 2.327006593985093, 1354: 0.3573688888650223, 107: 3.4553856364871915, 141: 1.0887840128505986, 718: -0.25024533137370025, 781: 1.2984137387588024, 1235: -0.15195696487366778, 1315: 0.17209297519671077, 1384: -0.12749417171287192, 21: 1.792960590773979, 377: 0.0023705519732922327, 630: -1.2776988912772913, 786: -0.9005213134843035, 980: 2.5820407030800614, 1164: -0.5812370604309317, 1233: 1.5606280792412894, 1259: 3.8961042755352997, 1290: 0.09890125632291283, 242: -2.5455500875734107, 278: 1.4612080104976883, 538: -4.4159491916445175, 914: 6.068251054863252, 1096: -0.7326856337802706, 1284: 3.1534826160375937, 105: 2.429475128491585, 241: 1.9794597501257136, 847: 1.7334477434612954, 566: -5.2398606832356664, 1099: 3.6661417778624528, 23: -1.132337818410451, 455: -2.0425180094218347, 487: 4.237908589783205, 600: 1.3182921724185692, 916: 0.8242447907329229, 18: 1.1040276731322307, 50: 3.961608888399034, 376: 1.4637660112730544, 810: 2.135863830571251, 1095: -0.7767776385820967, 1225: 4.599015619034743, 1417: -0.0832535441478008, 169: -0.6195626693843331, 648: -3.1824413891882193, 1223: -0.739934042535534, 776: -1.922999857753568, 239: 2.327654308339406, 1129: -4.036193858928803, 1161: -1.385397262537485, 6: -0.9808538907260534, 94: -1.2090589677989274, 226: -0.10287360594939397, 800: 1.7146724289358817, 631: 0.22279189086108614, 657: 2.420124462299113, 1132: 0.7167154615373321, 1355: 1.9741231555347827, 56: 2.886704714188713, 211: 0.9538956670227455, 816: 5.873665798250175, 884: -1.9177073513723863, 1316: -1.8855174458111859, 237: 0.43404726928954096, 273: 0.04296541552314399, 536: -0.7186626310154667, 872: 0.4064066813244138, 1125: -0.8662032647492697, 1374: -0.2606860870803352, 591: 0.15660326912584333, 869: -0.4669012817019138, 1059: -1.7966394826447767, 1278: 2.9382335254521115, 268: 0.2732243358801718, 1250: 0.6635527852046723, 596: 3.743880723871592, 625: -1.0797629975868313, 1348: -2.53368062381066, 138: 3.396694660400546, 913: 2.686750314396759, 939: -1.1031992497379015, 968: 2.364753664165245, 76: -1.0239568166916435, 198: 2.8957398422130027, 742: -0.9166419596103871, 146: 2.7462155116806404, 316: -1.6431329665319723, 543: 1.2464692650615419, 601: -2.6941381130118214, 654: 5.5479047605227, 1006: 2.3860198130051775, 1421: 0.061010683031179555, 22: -0.54824499212764, 243: -1.776865351691903, 485: -2.431954483702539, 1130: 3.9125287863938625, 1166: -0.4090708113736487, 174: -6.810553328185806, 147: -2.7567579052138598, 179: 2.8025735262556486, 182: 0.3663206181166579, 452: 3.389588047017063, 525: 0.4507445676485627, 788: -3.509430374769111, 1104: -1.1296067028299535, 1359: 0.5528609366802794, 1360: -0.3652445364320427, 150: -5.524154360424506, 213: 0.3727839446576055, 248: 1.9406653723963192, 577: 1.9763112040415274, 1263: 0.21062110996511785, 1268: -0.09256908864874692, 1314: -0.09256912287409784, 1425: -0.09256904633814152, 604: -2.2789249317759532, 947: -1.537718796033373, 425: 1.8491204259343894, 605: 3.4949525032891278, 815: 3.7012551518040544, 923: 2.564048863310376, 1264: -0.12594889370554746, 142: -1.5901926447473538, 415: -1.5590098837340045, 1196: 1.529344020683987, 1199: 0.19622201757666458, 196: -3.531407476898656, 1067: 0.797958842514856, 534: -2.3415567774378188, 836: -3.6756659290913754, 937: 0.473546613325326, 206: 1.1076997604996675, 280: 0.787969699841338, 747: -0.760578044450944, 973: 0.7879696873569888, 1101: -0.7605781080026331, 1103: 1.0738038788633677, 1257: -0.7605781627441658, 1258: 3.8161343331466626, 52: 1.2085251192817437, 177: 1.365226413066244, 205: 1.3592136582555574, 1063: 1.2959980302041865, 1194: 1.1446973535723666, 1288: 1.2980887193586048, 1311: 1.6343373136797763, 653: -0.851248703023888, 876: 1.0778081971910032, 17: 1.241471956343974, 98: -1.5094133922253272}\n"
     ]
    }
   ],
   "source": [
    "# 准备最小二乘法的输入\n",
    "ids = list(coefficients.keys())\n",
    "\n",
    "id_seq = {}\n",
    "for i in range(len(ids)):\n",
    "    id_seq[ids[i]] = i\n",
    "\n",
    "def total_residual(x):\n",
    "    residual = []\n",
    "    for i, id in enumerate(ids):\n",
    "        coeff = coefficients[id]\n",
    "        N = coeff['N']\n",
    "        C_sum = coeff['C_sum']\n",
    "        count = coeff['count']\n",
    "        \n",
    "        this_id_residual = []\n",
    "        for id_list in coeff['id_lists']:\n",
    "            b = np.zeros(len(ids))  \n",
    "            for id in id_list:\n",
    "                seq = id_seq[id]\n",
    "                b[seq] = 1\n",
    "            this_id_residual.append(np.dot(b, x) - (N / count - C_sum / count))\n",
    "        residual.append(np.sum(this_id_residual))\n",
    "    \n",
    "    return residual\n",
    "\n",
    "x0 = np.zeros(len(ids))  # initialization\n",
    "\n",
    "result = least_squares(total_residual, x0)\n",
    "\n",
    "# 将结果映射回原始id空间\n",
    "optimized_values = {id: result.x[i] for i, id in enumerate(ids)}\n",
    "\n",
    "print(\"优化后的结果：\", optimized_values)\n",
    "# print(\"优化后的残差：\", result.fun)"
   ]
  },
  {
   "cell_type": "code",
   "execution_count": 7,
   "metadata": {},
   "outputs": [],
   "source": [
    "gdf['ds'] = gdf.states\n",
    "\n",
    "for index, row in gdf.iterrows():\n",
    "    row_id = row['id']  # 假设gdf中用于标识每行的列名为'id'\n",
    "    if row_id in optimized_values:\n",
    "        # 如果当前行的id在optimized_values中，更新其值\n",
    "        gdf.at[index, 'ds'] = optimized_values[row_id]\n"
   ]
  },
  {
   "cell_type": "code",
   "execution_count": 8,
   "metadata": {},
   "outputs": [],
   "source": [
    "# gdf['ds']=np.log2(gdf['ds'] + abs(gdf['ds'].min()) + 1) # LOG"
   ]
  },
  {
   "cell_type": "code",
   "execution_count": 9,
   "metadata": {},
   "outputs": [],
   "source": [
    "# gdf = gdf.drop('encoding', axis=1)\n",
    "gdf.to_file('../data/cmap/cmap_distance.shp', driver='ESRI Shapefile', crs='EPSG:4326')"
   ]
  },
  {
   "cell_type": "markdown",
   "metadata": {},
   "source": [
    "# 最小二乘回归后，对结果的检验"
   ]
  },
  {
   "cell_type": "markdown",
   "metadata": {},
   "source": [
    "## 残差图"
   ]
  },
  {
   "cell_type": "code",
   "execution_count": 10,
   "metadata": {},
   "outputs": [
    {
     "data": {
      "image/png": "[encoded data removed]",
      "text/plain": [
       "<Figure size 720x432 with 1 Axes>"
      ]
     },
     "metadata": {
      "needs_background": "light"
     },
     "output_type": "display_data"
    }
   ],
   "source": [
    "import matplotlib.pyplot as plt\n",
    "\n",
    "plt.rcParams[\"font.family\"] = \"Times New Roman\"\n",
    "plt.figure(figsize=(10, 6))\n",
    "plt.scatter(range(len(result.fun)), result.fun, alpha=0.6, edgecolors='w', s=50, color='dodgerblue')\n",
    "plt.title('Improved Residual Plot', fontsize=16)\n",
    "plt.xlabel('Influenced Grid ID', fontsize=16)\n",
    "plt.ylabel('Residual', fontsize=16)\n",
    "plt.axhline(0, color='grey', linewidth=0.8)\n",
    "plt.xticks(fontsize=14)\n",
    "plt.yticks(fontsize=14)\n",
    "plt.grid(True, linestyle='--', alpha=0.5)\n",
    "plt.show()"
   ]
  },
  {
   "cell_type": "markdown",
   "metadata": {},
   "source": [
    "## RSS 残差平方和"
   ]
  },
  {
   "cell_type": "code",
   "execution_count": 11,
   "metadata": {},
   "outputs": [
    {
     "name": "stdout",
     "output_type": "stream",
     "text": [
      "残差平方和(RSS): 6.789402738960431e-20\n"
     ]
    }
   ],
   "source": [
    "import numpy as np\n",
    "from scipy.optimize import least_squares\n",
    "\n",
    "def calculate_rss(residuals):\n",
    "    \"\"\"计算残差平方和\"\"\"\n",
    "    return np.sum(np.square(residuals))\n",
    "\n",
    "# 使用least_squares得到的结果计算残差\n",
    "residuals = total_residual(result.x)\n",
    "\n",
    "# 计算RSS\n",
    "RSS = calculate_rss(residuals)\n",
    "print(\"残差平方和(RSS):\", RSS)"
   ]
  }
 ],
 "metadata": {
  "kernelspec": {
   "display_name": "django",
   "language": "python",
   "name": "python3"
  },
  "language_info": {
   "codemirror_mode": {
    "name": "ipython",
    "version": 3
   },
   "file_extension": ".py",
   "mimetype": "text/x-python",
   "name": "python",
   "nbconvert_exporter": "python",
   "pygments_lexer": "ipython3",
   "version": "3.7.11"
  },
  "orig_nbformat": 4
 },
 "nbformat": 4,
 "nbformat_minor": 2
}
