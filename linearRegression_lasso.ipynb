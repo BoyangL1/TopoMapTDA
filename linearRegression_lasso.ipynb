{
 "cells": [
  {
   "cell_type": "code",
   "execution_count": 1,
   "metadata": {},
   "outputs": [],
   "source": [
    "import geopandas as gpd\n",
    "import pandas as pd\n",
    "import numpy as np\n",
    "from shapely.geometry import Point\n",
    "from scipy.optimize import least_squares"
   ]
  },
  {
   "cell_type": "code",
   "execution_count": 2,
   "metadata": {},
   "outputs": [],
   "source": [
    "def bresenhamLine(x0, y0, x1, y1):\n",
    "    dx = abs(x1 - x0)\n",
    "    dy = abs(y1 - y0)\n",
    "    sx = -1 if x0 > x1 else 1\n",
    "    sy = -1 if y0 > y1 else 1\n",
    "    err = dx - dy\n",
    "\n",
    "    points = []\n",
    "\n",
    "    while True:\n",
    "        points.append((x0, y0))\n",
    "\n",
    "        if x0 == x1 and y0 == y1:\n",
    "            break\n",
    "\n",
    "        e2 = 2 * err\n",
    "        if e2 > -dy:\n",
    "            err -= dy\n",
    "            x0 += sx\n",
    "        if e2 < dx:\n",
    "            err += dx\n",
    "            y0 += sy\n",
    "\n",
    "    return points\n",
    "\n",
    "def calculateCoordinates(fnid_value):\n",
    "    \"\"\"\n",
    "    提供fnid,计算格网的横纵坐标\n",
    "    \"\"\"\n",
    "    x = fnid_value % 357\n",
    "    y = fnid_value // 357\n",
    "    return x, y\n",
    "\n",
    "def fnid_from_coordinates(x, y):\n",
    "    \"\"\"\n",
    "    根据格网的横纵坐标,计算fnid\n",
    "    \"\"\"\n",
    "    return y * 357 + x\n",
    "\n",
    "def odLineFnids(fnid_o, fnid_d):\n",
    "    \"\"\"\n",
    "    计算起始点到终止点直线经过的fnid格网编号\n",
    "    \"\"\"\n",
    "    x0, y0 = calculateCoordinates(fnid_o)\n",
    "    x1, y1 = calculateCoordinates(fnid_d)\n",
    "\n",
    "    line_points = bresenhamLine(x0, y0, x1, y1)\n",
    "\n",
    "    fnids = [fnid_from_coordinates(x, y) for x, y in line_points]\n",
    "    return fnids"
   ]
  },
  {
   "cell_type": "code",
   "execution_count": 3,
   "metadata": {},
   "outputs": [],
   "source": [
    "grid=gpd.read_file('../data/shp/nanshan_value/nanshan_value.shp')\n",
    "od_cluster_df = pd.read_csv('../data/od_cluster.csv')\n",
    "\n",
    "od_cluster_df = od_cluster_df.drop_duplicates(subset=['origin_lat', 'origin_lng', 'destination_lat', 'destination_lng'])"
   ]
  },
  {
   "cell_type": "code",
   "execution_count": 4,
   "metadata": {},
   "outputs": [],
   "source": [
    "gdf = gpd.read_file('../data/shp/nanshan_value/nanshan_value.shp')\n",
    "gdf['id'] = range(1, len(gdf) + 1)\n",
    "max_id = max(gdf['id'])\n",
    "min_value = gdf['states'].min()\n",
    "max_value = gdf['states'].max()\n",
    "gdf['states'] = ((gdf['states'] - min_value) / (max_value - min_value)) * (2 - 0) + 0 # 归一化为0-2"
   ]
  },
  {
   "cell_type": "code",
   "execution_count": 5,
   "metadata": {},
   "outputs": [
    {
     "name": "stderr",
     "output_type": "stream",
     "text": [
      "e:\\Anaconda\\envs\\django\\lib\\site-packages\\pandas\\core\\dtypes\\cast.py:118: ShapelyDeprecationWarning: The array interface is deprecated and will no longer work in Shapely 2.0. Convert the '.coords' to a numpy array instead.\n",
      "  arr = construct_1d_object_array_from_listlike(values)\n"
     ]
    }
   ],
   "source": [
    "od_cluster_df['source_geometry'] = [Point(xy) for xy in zip(od_cluster_df.origin_lng, od_cluster_df.origin_lat)]\n",
    "od_cluster_df['target_geometry'] = [Point(xy) for xy in zip(od_cluster_df.destination_lng, od_cluster_df.destination_lat)]\n",
    "\n",
    "coefficients = {}\n",
    "for index,row in od_cluster_df.iterrows():\n",
    "    source_point = row['source_geometry']  \n",
    "    target_point = row['target_geometry']\n",
    "    fnid_o = gdf[gdf.contains(source_point)]['fnid'].values[0] if gdf.contains(source_point).any() else None\n",
    "    fnid_d = gdf[gdf.contains(target_point)]['fnid'].values[0] if gdf.contains(target_point).any() else None\n",
    "    if not fnid_o or not fnid_d:\n",
    "        continue\n",
    "\n",
    "    fnid_list=odLineFnids(fnid_o, fnid_d)\n",
    "    matched_gdf = gdf[gdf['fnid'].isin(fnid_list)]\n",
    "\n",
    "    # N = len(matched_gdf)*1\n",
    "    N = sum(matched_gdf['states'])\n",
    "    omega = (row['count']) \n",
    "    C = np.log(omega)\n",
    "\n",
    "    id_list = matched_gdf['id'].to_list()\n",
    "\n",
    "    for id in matched_gdf['id']:\n",
    "        if id not in coefficients:\n",
    "            coefficients[id] = {'N': 0, 'C_sum': 0, 'count': 0, 'id_lists': []}\n",
    "        coefficients[id]['N'] += N\n",
    "        coefficients[id]['C_sum'] += C\n",
    "        coefficients[id]['count'] += 1\n",
    "        coefficients[id]['id_lists'].append(id_list)"
   ]
  },
  {
   "cell_type": "code",
   "execution_count": 6,
   "metadata": {},
   "outputs": [],
   "source": [
    "# 准备最小二乘法的输入\n",
    "ids = list(coefficients.keys())\n",
    "\n",
    "id_seq = {}\n",
    "for i in range(len(ids)):\n",
    "    id_seq[ids[i]] = i\n",
    "\n",
    "def total_residual(x, lam=0.01):\n",
    "    residual = []\n",
    "    for i, id in enumerate(ids):\n",
    "        coeff = coefficients[id]\n",
    "        N = coeff['N']\n",
    "        C_sum = coeff['C_sum']\n",
    "        count = coeff['count']\n",
    "        \n",
    "        this_id_residual = []\n",
    "        for id_list in coeff['id_lists']:\n",
    "            b = np.zeros(len(ids))\n",
    "            for id in id_list:\n",
    "                seq = id_seq[id]\n",
    "                b[seq] = 1\n",
    "            this_id_residual.append(np.dot(b, x) - (N / count - C_sum / count))\n",
    "        residual.append(np.sum(this_id_residual))\n",
    "    \n",
    "    # 添加正则项到残差\n",
    "    regularization_term = lam * np.sum(x**2)\n",
    "    residual_with_regularization = np.sum(np.array(residual)**2) + regularization_term\n",
    "    return residual_with_regularization"
   ]
  },
  {
   "cell_type": "code",
   "execution_count": 7,
   "metadata": {},
   "outputs": [
    {
     "name": "stdout",
     "output_type": "stream",
     "text": [
      "引入正则项后的优化结果： {372: 0.8584099109161932, 673: -0.6292345494530422, 676: 0.7219819546960177, 962: 0.8584099804091218, 1282: -0.2402810022033564, 307: 0.05860638289735162, 768: 0.1950747546015612, 300: 0.3331945397697513, 396: 1.2512314549584345, 505: 1.0605177465897542, 615: 1.3848292310701404, 671: -0.1426158506345279, 865: 0.7627172463781072, 1333: 0.9378488837781283, 1335: 2.5404043018602818, 366: 0.08831645921633065, 398: 0.33087389090393476, 432: 0.7471528642530793, 434: 0.9075673724500872, 1149: 0.7803176857431466, 1214: 1.4441420927471174, 224: 1.369146859334612, 448: 1.0565171620950733, 540: 0.2648485249024376, 597: 0.2648482844620729, 628: 1.2860972202244163, 655: 0.2648483456342494, 686: 0.2648483973337487, 24: -2.788650700900987, 240: 1.2982070097131189, 347: -2.578495704743186, 379: 2.274381096290233, 567: 1.1744054697336852, 140: 0.6617645037431472, 743: 0.22128516817570187, 811: 0.22128516817646562, 972: 0.2212852706937867, 1163: 0.2212848539922702, 207: 0.4168501874399345, 236: 0.5740721784456566, 277: -2.6161685971722117, 449: 0.4168502105832677, 599: 0.41685029832470333, 874: 0.574072569489452, 911: 1.0630607147003452, 1128: 0.5740721784457341, 348: 0.230536565783755, 456: 1.3395450397721427, 784: 0.7647206751993645, 879: 2.0904951263477587, 1228: 0.9354695768297646, 1351: 0.6745773896158129, 134: 0.4243277013785866, 234: -0.41032260472016113, 443: 0.4243275106578639, 521: 1.2939478831841726, 682: 0.4908923037375476, 773: 0.42432761626782545, 942: 3.4903212435590403, 1345: -0.14538963181002165, 1419: -3.014370276490541, 78: 1.298529458798777, 410: 1.8571738349711027, 481: 1.298529483944161, 875: 1.857173599981456, 1004: 1.298529460706022, 1031: 1.4018020909054603, 1100: 1.2985295060335347, 1310: -1.0648321933485865, 136: 1.6334565443981233, 649: 0.38547030354242284, 782: 1.0036667643424364, 945: 0.3252249711407804, 1352: -0.25144848787466617, 1420: 0.754075765324675, 964: -3.19487757340832, 176: 0.4441331876981245, 652: 0.4441330938651548, 197: 0.8898400606887169, 1254: 0.10304593422851557, 1377: 0.08634781830514877, 263: 0.9599840809915053, 302: 0.32595951030278264, 532: 0.8857410063254971, 621: 0.08881565814290684, 312: 0.610190463056024, 375: 0.615604256821686, 447: 0.6101901293912356, 778: 0.6156043984357729, 1005: 0.6156044186386943, 1062: 0.6156044095747244, 1227: 0.6101904858015313, 102: -0.0054332203337429845, 271: -0.005433157099862597, 279: -0.0054329728255667125, 406: -0.005433116077992203, 1256: -0.005432806939578292, 48: -0.08525517733967149, 349: 0.9422307170379784, 350: 0.48684385933929003, 1226: 0.48684351799518993, 1354: 0.2598155203054162, 107: 1.0122738632022972, 141: 0.1896951673571893, 718: 0.5342335032483251, 781: 2.7081022166438773, 1235: 0.5342336190055915, 1315: 0.5342333893099074, 1384: 0.5342335898989594, 21: 0.6536066983207142, 377: 0.6536068168783371, 630: 0.653606816877359, 786: 0.6536069342760232, 980: 0.48397370558157526, 1164: 0.6536068266631584, 1233: 0.6536069411419816, 1259: 0.65360681687806, 1290: 0.6536066983223627, 242: 0.4735395219358144, 278: 1.6872475145102994, 538: 0.24157895618653064, 914: 0.24642014843848475, 1096: 0.4735397110184915, 1284: 1.343138708878137, 105: 1.8464893243692362, 241: 1.9320084458384053, 847: 0.9834792082180288, 566: -0.4907027850507223, 1099: 0.7231247267872771, 23: 0.8035266140343306, 455: 0.16049982388052503, 487: 1.1338124104120684, 600: 0.1604997878532807, 916: 0.6654986489900342, 18: 0.6376970859367928, 50: 3.774162303274144, 376: 0.6376970691299056, 810: 0.6376970691311077, 1095: -0.5239604397511765, 1225: 1.851436967508073, 1417: -0.2319056287331474, 169: 0.5805472440072289, 648: 0.0077801493468910585, 1223: 0.8696469218782337, 776: -0.8588659519720628, 239: 1.2137985434224317, 1129: 0.3686015344280786, 1161: 1.213798543422658, 6: 0.7412187758097429, 94: -0.4134440750657666, 226: -0.21928406218204255, 800: 1.2674970463225148, 631: 1.6709363331711573, 657: 1.2972189304144355, 1132: 1.2972187828067407, 1355: 1.297218782805852, 56: 0.9486067552391598, 211: 0.948606755239204, 816: 0.9486067915170767, 884: 0.9486066266045335, 1316: 0.9486068158479869, 237: -0.08307083018512493, 273: -0.08307097270420293, 536: -0.0830709727039969, 872: 0.13236945102683328, 1125: 0.1323695027257668, 1374: 0.13236943826226394, 591: 0.40056036397976125, 869: 0.16341905648965915, 1059: 0.4005606619168753, 1278: 0.40056058003497436, 268: -0.1364177455110046, 1250: -0.13641779669511825, 596: 0.7338483848443587, 625: 0.7338483848450268, 1348: 0.7338484125160578, 138: 1.606299711209047, 913: 1.606299711209991, 939: 1.6063000729185821, 968: 1.6063000729209975, 76: 0.5721205785692124, 198: 0.5721205785697043, 742: 0.5721205312580426, 146: 0.37371219924362586, 316: 0.37371209422506685, 543: 0.37371212299221035, 601: 0.37371193212570863, 654: 0.504654212323531, 1006: 1.7631598409238574, 1421: 0.37371196496500514, 22: 0.618198877350711, 243: -0.22700110242001437, 485: 0.9617697572907236, 1130: 0.7490601464126676, 1166: 0.9617695800306075, 174: -0.8451595880084796, 147: 1.0176052702976635, 179: 0.49530155653242186, 182: 0.4953016082314592, 452: 1.138383142108278, 525: 0.6883974284361694, 788: 0.9267453074237825, 1104: 1.138383051409225, 1359: 0.4486468147183099, 1360: 0.4486468133933271, 150: 0.2850173799794731, 213: 0.5989155141931806, 248: 0.478103743027544, 577: 0.47810373333738365, 1263: 0.4781037723419928, 1268: 0.47810377234168666, 1314: 0.47810388851923075, 1425: 0.4781037806491946, 604: 0.6897893266287256, 947: 0.6897891448947158, 425: -0.1930366128878082, 605: 0.643129047544191, 815: 0.6431290888919127, 923: 0.6431293953060369, 1264: 0.6431293857122214, 142: -0.16962840389661146, 415: -0.1696281872493245, 1196: -0.16962817429537272, 1199: -0.16962817429506097, 196: -1.098692837640928, 1067: 0.3585106863116615, 534: -0.40372342515545817, 836: -0.4037233778437901, 937: -0.4037234404399697, 206: 0.7713434126195232, 280: 0.45548493180137356, 747: 0.5586663526914075, 973: 0.4554848904456261, 1101: 0.5586662891935543, 1103: 0.7713431590985835, 1257: 0.5586662734337774, 1258: 0.7713433540220418, 52: 1.1888128301392438, 177: 1.1888133112241845, 205: 1.1888133112243207, 1063: 1.1888131547464311, 1194: 1.1888131547462835, 1288: 1.188812779210922, 1311: 1.1888127792110235, 653: 0.10327714602405583, 876: 0.9761514008624432, 17: -0.2890722300202486, 98: -0.7887008702617733}\n"
     ]
    }
   ],
   "source": [
    "from scipy.optimize import minimize\n",
    "\n",
    "# 初始化参数\n",
    "x0 = np.zeros(len(ids))\n",
    "\n",
    "# 调用优化函数\n",
    "result_with_reg = minimize(total_residual, x0, args=(0.01,))\n",
    "\n",
    "# 将结果映射回原始id空间\n",
    "optimized_values_with_reg = {id: result_with_reg.x[i] for i, id in enumerate(ids)}\n",
    "\n",
    "print(\"引入正则项后的优化结果：\", optimized_values_with_reg)\n"
   ]
  },
  {
   "cell_type": "code",
   "execution_count": 8,
   "metadata": {},
   "outputs": [],
   "source": [
    "gdf['ds'] = gdf.states\n",
    "\n",
    "for index, row in gdf.iterrows():\n",
    "    row_id = row['id']  # 假设gdf中用于标识每行的列名为'id'\n",
    "    if row_id in optimized_values_with_reg:\n",
    "        # 如果当前行的id在optimized_values中，更新其值\n",
    "        gdf.at[index, 'ds'] = optimized_values_with_reg[row_id]\n"
   ]
  },
  {
   "cell_type": "code",
   "execution_count": 9,
   "metadata": {},
   "outputs": [],
   "source": [
    "# gdf['ds']=np.log2(gdf['ds'] + abs(gdf['ds'].min()) + 1) # LOG"
   ]
  },
  {
   "cell_type": "code",
   "execution_count": 10,
   "metadata": {},
   "outputs": [],
   "source": [
    "# gdf = gdf.drop('encoding', axis=1)\n",
    "gdf.to_file('../data/cmap/cmap_distance.shp', driver='ESRI Shapefile', crs='EPSG:4326')"
   ]
  },
  {
   "cell_type": "markdown",
   "metadata": {},
   "source": [
    "# 最小二乘结果的检验"
   ]
  },
  {
   "cell_type": "markdown",
   "metadata": {},
   "source": [
    "## 残差图"
   ]
  },
  {
   "cell_type": "code",
   "execution_count": 11,
   "metadata": {},
   "outputs": [
    {
     "name": "stdout",
     "output_type": "stream",
     "text": [
      "优化成功!\n"
     ]
    }
   ],
   "source": [
    "if result_with_reg.success:\n",
    "    print(\"优化成功!\")\n",
    "else:\n",
    "    print(\"优化失败。原因：\", result_with_reg.message)\n"
   ]
  },
  {
   "cell_type": "code",
   "execution_count": 12,
   "metadata": {},
   "outputs": [],
   "source": [
    "def calculate_prediction(x):\n",
    "    residual = []\n",
    "    for i, id in enumerate(ids):\n",
    "        coeff = coefficients[id]\n",
    "        N = coeff['N']\n",
    "        C_sum = coeff['C_sum']\n",
    "        count = coeff['count']\n",
    "        \n",
    "        this_id_residual = []\n",
    "        for id_list in coeff['id_lists']:\n",
    "            b = np.zeros(len(ids))\n",
    "            for id in id_list:\n",
    "                seq = id_seq[id]\n",
    "                b[seq] = 1\n",
    "            this_id_residual.append(np.dot(b, x) - (N / count - C_sum / count))\n",
    "        residual.append(np.sum(this_id_residual))\n",
    "    return residual"
   ]
  },
  {
   "cell_type": "code",
   "execution_count": 14,
   "metadata": {},
   "outputs": [
    {
     "data": {
      "image/png": "[encoded data removed]",
      "text/plain": [
       "<Figure size 720x432 with 1 Axes>"
      ]
     },
     "metadata": {
      "needs_background": "light"
     },
     "output_type": "display_data"
    }
   ],
   "source": [
    "import matplotlib.pyplot as plt\n",
    "\n",
    "residual=calculate_prediction(result_with_reg.x)\n",
    "\n",
    "plt.rcParams[\"font.family\"] = \"Times New Roman\"\n",
    "plt.figure(figsize=(10, 6))\n",
    "plt.scatter(range(len(residual)), residual, alpha=0.6, edgecolors='w', s=50, color='dodgerblue')\n",
    "plt.title('Residual Plot', fontsize=16)\n",
    "plt.xlabel('Influenced Grid ID', fontsize=16)\n",
    "plt.ylabel('Residual', fontsize=16)\n",
    "plt.axhline(0, color='grey', linewidth=0.8)\n",
    "plt.xticks(fontsize=14)\n",
    "plt.yticks(fontsize=14)\n",
    "plt.grid(True, linestyle='--', alpha=0.5)\n",
    "plt.show()"
   ]
  },
  {
   "cell_type": "code",
   "execution_count": 16,
   "metadata": {},
   "outputs": [
    {
     "name": "stdout",
     "output_type": "stream",
     "text": [
      "模型的MSE为: 0.0019432739958626939\n"
     ]
    }
   ],
   "source": [
    "mse = np.mean([r ** 2 for r in residual])\n",
    "print(\"模型的MSE为:\", mse)"
   ]
  }
 ],
 "metadata": {
  "kernelspec": {
   "display_name": "django",
   "language": "python",
   "name": "python3"
  },
  "language_info": {
   "codemirror_mode": {
    "name": "ipython",
    "version": 3
   },
   "file_extension": ".py",
   "mimetype": "text/x-python",
   "name": "python",
   "nbconvert_exporter": "python",
   "pygments_lexer": "ipython3",
   "version": "3.7.11"
  },
  "orig_nbformat": 4
 },
 "nbformat": 4,
 "nbformat_minor": 2
}
